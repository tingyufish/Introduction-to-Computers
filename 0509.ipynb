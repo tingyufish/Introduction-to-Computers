{
  "nbformat": 4,
  "nbformat_minor": 0,
  "metadata": {
    "colab": {
      "name": "0509.ipynb",
      "provenance": [],
      "authorship_tag": "ABX9TyNw85a0qplJ9eTRPStWKH9J",
      "include_colab_link": true
    },
    "kernelspec": {
      "name": "python3",
      "display_name": "Python 3"
    },
    "language_info": {
      "name": "python"
    }
  },
  "cells": [
    {
      "cell_type": "markdown",
      "metadata": {
        "id": "view-in-github",
        "colab_type": "text"
      },
      "source": [
        "<a href=\"https://colab.research.google.com/github/tingyufish/Introduction-to-Computers/blob/main/0509.ipynb\" target=\"_parent\"><img src=\"https://colab.research.google.com/assets/colab-badge.svg\" alt=\"Open In Colab\"/></a>"
      ]
    },
    {
      "cell_type": "code",
      "execution_count": 1,
      "metadata": {
        "colab": {
          "base_uri": "https://localhost:8080/"
        },
        "id": "xRAuNwt9858d",
        "outputId": "a39c1ac8-0a0f-4b9f-f81d-45dcfa0397c1"
      },
      "outputs": [
        {
          "output_type": "stream",
          "name": "stdout",
          "text": [
            "123\n"
          ]
        }
      ],
      "source": [
        "print('123')"
      ]
    },
    {
      "cell_type": "code",
      "source": [
        "temp = float(input('請輸入你的體溫'))\n",
        "if temp >= 37.5:\n",
        "  print('體溫過高!')\n",
        "elif temp >= 37 and temp < 37.4:\n",
        "  print('體溫略高!')\n",
        "elif temp >= 34 and temp < 36.9:\n",
        "  print('體溫正常!')\n",
        "else:\n",
        "  print('體溫異常,請重新量測!')    "
      ],
      "metadata": {
        "colab": {
          "base_uri": "https://localhost:8080/"
        },
        "id": "d0hapEqY9IGr",
        "outputId": "a9959a91-5dce-4217-bf60-85e7f5606e5e"
      },
      "execution_count": 3,
      "outputs": [
        {
          "output_type": "stream",
          "name": "stdout",
          "text": [
            "請輸入你的體溫36\n",
            "體溫正常!\n"
          ]
        }
      ]
    },
    {
      "cell_type": "code",
      "source": [
        "score = input('請輸入成績')\n",
        "if (int(score) >= 90):\n",
        "  print('A')\n",
        "elif (int(score) >= 80):\n",
        "  print('B')\n",
        "elif (int(score) >= 70):\n",
        "  print('C')\n",
        "elif (int(score) >= 60):\n",
        "  print('D')\n",
        "else:\n",
        "  print('D')"
      ],
      "metadata": {
        "colab": {
          "base_uri": "https://localhost:8080/"
        },
        "id": "oNf2Yudl_joN",
        "outputId": "584fff2e-4ba6-4583-8fbf-5dd5e8392ea4"
      },
      "execution_count": 5,
      "outputs": [
        {
          "output_type": "stream",
          "name": "stdout",
          "text": [
            "請輸入成績80\n",
            "B\n"
          ]
        }
      ]
    },
    {
      "cell_type": "code",
      "source": [
        "money = int(input('請輸入購物金額:'))\n",
        "if (money >= 10000):\n",
        "  if(money >= 100000):\n",
        "    print('八折', money*0.8, end = '元\\n')\n",
        "  elif(money >= 50000):\n",
        "    print('八五折', money*0.85, end = '元\\n')\n",
        "  elif(money >= 30000):\n",
        "    print('九折', money*0.9, end = '元\\n')\n",
        "  else:\n",
        "    print('九五折', money*0.95, end = '元\\n')\n",
        "else:\n",
        "  print('沒打折',money, end = '元\\n')\n"
      ],
      "metadata": {
        "colab": {
          "base_uri": "https://localhost:8080/"
        },
        "id": "dZ5jBr2vElhH",
        "outputId": "5808c4d9-3058-4e2c-eab2-4c5cd3351091"
      },
      "execution_count": 6,
      "outputs": [
        {
          "output_type": "stream",
          "name": "stdout",
          "text": [
            "請輸入購物金額:90000\n",
            "八五折 76500.0元\n"
          ]
        }
      ]
    },
    {
      "cell_type": "code",
      "source": [
        "month = int(input('請輸入月份:'))\n",
        "if month <= 12:\n",
        "  if month >= 3:\n",
        "    print('{}月是春天!'.format(month))\n",
        "  elif month >= 6:\n",
        "    print('{}月是夏天!'.format(month))\n",
        "  elif month >= 9:\n",
        "    print('{}月是秋天!'.format(month))\n",
        "  else:\n",
        "    print('{}月是冬天!'.format(month))\n",
        "\n",
        "else:\n",
        "  print('月份不在範圍內!')"
      ],
      "metadata": {
        "colab": {
          "base_uri": "https://localhost:8080/"
        },
        "id": "UxBqh-J1Hyqo",
        "outputId": "ebacaf3e-897c-48ed-d151-0aea99d9a7d5"
      },
      "execution_count": 18,
      "outputs": [
        {
          "output_type": "stream",
          "name": "stdout",
          "text": [
            "請輸入月份:3\n",
            "3月是春天!\n"
          ]
        }
      ]
    },
    {
      "cell_type": "code",
      "source": [
        "revenue = int(input('請輸入今年收入淨額:'))\n",
        "if (revenue >= 300000):\n",
        "  if(revenue >= 2000000):\n",
        "    print('賦稅金額:', revenue*0.3, end = '元\\n')\n",
        "  elif(revenue >= 1000000):\n",
        "    print('賦稅金額', revenue*0.21, end = '元\\n')\n",
        "  elif(revenue >= 600000):\n",
        "    print('賦稅金額', revenue*0.13, end = '元\\n')\n",
        "  else:\n",
        "    print('賦稅金額', revenue*0.06, end = '元\\n')\n",
        "else:\n",
        "  print('賦稅金額',revenue*0, end = '元\\n')"
      ],
      "metadata": {
        "colab": {
          "base_uri": "https://localhost:8080/"
        },
        "id": "DfH8-TfjXJ89",
        "outputId": "34e257b2-3873-422c-c8cb-e4b05281546b"
      },
      "execution_count": 14,
      "outputs": [
        {
          "output_type": "stream",
          "name": "stdout",
          "text": [
            "請輸入今年收入淨額:300000\n",
            "賦稅金額 18000.0元\n"
          ]
        }
      ]
    }
  ]
}